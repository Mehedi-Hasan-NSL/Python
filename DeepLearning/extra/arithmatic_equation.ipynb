{
 "cells": [
  {
   "cell_type": "code",
   "execution_count": 99,
   "id": "b7aa45b8",
   "metadata": {
    "ExecuteTime": {
     "end_time": "2021-09-20T07:21:06.578512Z",
     "start_time": "2021-09-20T07:21:06.550508Z"
    }
   },
   "outputs": [],
   "source": [
    "import numpy as np\n",
    "\n",
    "x_train = np.array([0, 1, 2, 3, 4, 5, 6, 7 , 8, 9, 10, 11, 12, 13, 14, 15, 16, 17, 18, 19])\n",
    "y_train = np.array([5*i**2 + 7*i + 9 for i in x_train])"
   ]
  },
  {
   "cell_type": "code",
   "execution_count": 100,
   "id": "5dd89823",
   "metadata": {
    "ExecuteTime": {
     "end_time": "2021-09-20T07:21:08.074762Z",
     "start_time": "2021-09-20T07:21:08.041585Z"
    }
   },
   "outputs": [
    {
     "data": {
      "text/plain": [
       "array([   9,   21,   43,   75,  117,  169,  231,  303,  385,  477,  579,\n",
       "        691,  813,  945, 1087, 1239, 1401, 1573, 1755, 1947])"
      ]
     },
     "execution_count": 100,
     "metadata": {},
     "output_type": "execute_result"
    }
   ],
   "source": [
    "y_train"
   ]
  },
  {
   "cell_type": "code",
   "execution_count": 129,
   "id": "bf7c1aec",
   "metadata": {
    "ExecuteTime": {
     "end_time": "2021-09-20T08:54:22.528606Z",
     "start_time": "2021-09-20T08:54:22.515809Z"
    }
   },
   "outputs": [],
   "source": [
    "batch_size = 10"
   ]
  },
  {
   "cell_type": "code",
   "execution_count": 134,
   "id": "9ba1bacd",
   "metadata": {
    "ExecuteTime": {
     "end_time": "2021-09-20T08:58:00.004286Z",
     "start_time": "2021-09-20T08:57:59.874984Z"
    }
   },
   "outputs": [],
   "source": [
    "import keras\n",
    "from keras.models import Sequential\n",
    "from keras.layers import Dense, Flatten\n",
    "\n",
    "model = Sequential()\n",
    "model.add(Dense(128, input_shape = (1,), activation = 'relu'))\n",
    "model.add(Dense(128, activation = 'relu'))\n",
    "model.add(Dense(64, activation = 'relu'))\n",
    "model.add(Dense(32, activation = 'relu'))\n",
    "model.add(Dense(16, activation = 'relu'))\n",
    "model.add(Dense(16, activation = 'relu'))\n",
    "model.add(Dense(8, activation = 'relu'))\n",
    "model.add(Flatten())\n",
    "model.add(Dense(1))\n",
    "\n",
    "model.compile(optimizer='adam',loss = keras.losses.Huber(),metrics=['accuracy'])"
   ]
  },
  {
   "cell_type": "code",
   "execution_count": 140,
   "id": "aaebff05",
   "metadata": {
    "ExecuteTime": {
     "end_time": "2021-09-20T11:29:36.491231Z",
     "start_time": "2021-09-20T11:29:33.934390Z"
    }
   },
   "outputs": [
    {
     "name": "stdout",
     "output_type": "stream",
     "text": [
      "Epoch 1/2000\n",
      "2/2 [==============================] - 0s 85ms/step - loss: 312.1473 - accuracy: 0.0000e+00 - val_loss: 1326.4260 - val_accuracy: 0.0000e+00\n",
      "Epoch 2/2000\n",
      "2/2 [==============================] - 0s 32ms/step - loss: 309.3552 - accuracy: 0.0000e+00 - val_loss: 1317.8285 - val_accuracy: 0.0000e+00\n",
      "Epoch 3/2000\n",
      "2/2 [==============================] - 0s 34ms/step - loss: 304.9643 - accuracy: 0.0000e+00 - val_loss: 1301.0701 - val_accuracy: 0.0000e+00\n",
      "Epoch 4/2000\n",
      "2/2 [==============================] - 0s 34ms/step - loss: 295.9720 - accuracy: 0.0000e+00 - val_loss: 1277.0671 - val_accuracy: 0.0000e+00\n",
      "Epoch 5/2000\n",
      "2/2 [==============================] - 0s 37ms/step - loss: 285.2512 - accuracy: 0.0000e+00 - val_loss: 1241.8372 - val_accuracy: 0.0000e+00\n",
      "Epoch 6/2000\n",
      "2/2 [==============================] - 0s 32ms/step - loss: 272.0141 - accuracy: 0.0000e+00 - val_loss: 1193.6523 - val_accuracy: 0.0000e+00\n",
      "Epoch 7/2000\n",
      "2/2 [==============================] - 0s 29ms/step - loss: 253.6310 - accuracy: 0.0000e+00 - val_loss: 1135.3589 - val_accuracy: 0.0000e+00\n",
      "Epoch 8/2000\n",
      "2/2 [==============================] - 0s 27ms/step - loss: 236.1521 - accuracy: 0.0000e+00 - val_loss: 1060.1749 - val_accuracy: 0.0000e+00\n",
      "Epoch 9/2000\n",
      "2/2 [==============================] - 0s 32ms/step - loss: 206.5452 - accuracy: 0.0000e+00 - val_loss: 969.0214 - val_accuracy: 0.0000e+00\n",
      "Epoch 10/2000\n",
      "2/2 [==============================] - 0s 35ms/step - loss: 175.1680 - accuracy: 0.0000e+00 - val_loss: 862.8975 - val_accuracy: 0.0000e+00\n",
      "Epoch 11/2000\n",
      "2/2 [==============================] - 0s 30ms/step - loss: 152.1828 - accuracy: 0.0000e+00 - val_loss: 728.3578 - val_accuracy: 0.0000e+00\n",
      "Epoch 12/2000\n",
      "2/2 [==============================] - 0s 36ms/step - loss: 116.7217 - accuracy: 0.0000e+00 - val_loss: 568.4920 - val_accuracy: 0.0000e+00\n",
      "Epoch 13/2000\n",
      "2/2 [==============================] - 0s 36ms/step - loss: 97.3838 - accuracy: 0.0000e+00 - val_loss: 392.2896 - val_accuracy: 0.0000e+00\n",
      "Epoch 14/2000\n",
      "2/2 [==============================] - 0s 30ms/step - loss: 104.7774 - accuracy: 0.0000e+00 - val_loss: 249.4334 - val_accuracy: 0.0000e+00\n",
      "Epoch 15/2000\n",
      "2/2 [==============================] - 0s 32ms/step - loss: 110.4376 - accuracy: 0.0000e+00 - val_loss: 201.5732 - val_accuracy: 0.0000e+00\n",
      "Epoch 16/2000\n",
      "2/2 [==============================] - 0s 25ms/step - loss: 103.8373 - accuracy: 0.0000e+00 - val_loss: 236.2549 - val_accuracy: 0.0000e+00\n",
      "Epoch 17/2000\n",
      "2/2 [==============================] - 0s 29ms/step - loss: 80.5806 - accuracy: 0.0000e+00 - val_loss: 301.1252 - val_accuracy: 0.0000e+00\n",
      "Epoch 18/2000\n",
      "2/2 [==============================] - 0s 28ms/step - loss: 72.1428 - accuracy: 0.0000e+00 - val_loss: 354.0737 - val_accuracy: 0.0000e+00\n",
      "Epoch 19/2000\n",
      "2/2 [==============================] - 0s 30ms/step - loss: 65.1948 - accuracy: 0.0000e+00 - val_loss: 362.0339 - val_accuracy: 0.0000e+00\n",
      "Epoch 20/2000\n",
      "2/2 [==============================] - 0s 23ms/step - loss: 63.7078 - accuracy: 0.0000e+00 - val_loss: 345.0100 - val_accuracy: 0.0000e+00\n",
      "Epoch 21/2000\n",
      "2/2 [==============================] - 0s 28ms/step - loss: 60.5651 - accuracy: 0.0000e+00 - val_loss: 302.5191 - val_accuracy: 0.0000e+00\n",
      "Epoch 22/2000\n",
      "2/2 [==============================] - 0s 29ms/step - loss: 54.5197 - accuracy: 0.0000e+00 - val_loss: 232.0115 - val_accuracy: 0.0000e+00\n",
      "Epoch 23/2000\n",
      "2/2 [==============================] - 0s 24ms/step - loss: 41.2320 - accuracy: 0.0000e+00 - val_loss: 159.9533 - val_accuracy: 0.0000e+00\n",
      "Epoch 24/2000\n",
      "2/2 [==============================] - 0s 23ms/step - loss: 32.3834 - accuracy: 0.0000e+00 - val_loss: 100.0170 - val_accuracy: 0.0000e+00\n",
      "Epoch 25/2000\n",
      "2/2 [==============================] - 0s 33ms/step - loss: 35.8589 - accuracy: 0.0000e+00 - val_loss: 101.1259 - val_accuracy: 0.0000e+00\n",
      "Epoch 26/2000\n",
      "2/2 [==============================] - 0s 34ms/step - loss: 26.7041 - accuracy: 0.0000e+00 - val_loss: 125.3694 - val_accuracy: 0.0000e+00\n",
      "Epoch 27/2000\n",
      "2/2 [==============================] - 0s 31ms/step - loss: 25.4709 - accuracy: 0.0000e+00 - val_loss: 100.2618 - val_accuracy: 0.0000e+00\n",
      "Epoch 28/2000\n",
      "2/2 [==============================] - 0s 26ms/step - loss: 22.7601 - accuracy: 0.0000e+00 - val_loss: 60.7839 - val_accuracy: 0.0000e+00\n",
      "Epoch 29/2000\n",
      "2/2 [==============================] - 0s 27ms/step - loss: 22.2560 - accuracy: 0.0000e+00 - val_loss: 52.8080 - val_accuracy: 0.0000e+00\n",
      "Epoch 30/2000\n",
      "2/2 [==============================] - 0s 25ms/step - loss: 22.9384 - accuracy: 0.0000e+00 - val_loss: 56.5967 - val_accuracy: 0.0000e+00\n",
      "Epoch 31/2000\n",
      "2/2 [==============================] - 0s 32ms/step - loss: 23.8771 - accuracy: 0.0000e+00 - val_loss: 66.4983 - val_accuracy: 0.0000e+00\n",
      "Epoch 32/2000\n",
      "2/2 [==============================] - 0s 25ms/step - loss: 22.8219 - accuracy: 0.0000e+00 - val_loss: 70.0473 - val_accuracy: 0.0000e+00\n",
      "Epoch 33/2000\n",
      "2/2 [==============================] - 0s 31ms/step - loss: 21.1503 - accuracy: 0.0000e+00 - val_loss: 87.5152 - val_accuracy: 0.0000e+00\n",
      "Epoch 34/2000\n",
      "2/2 [==============================] - 0s 30ms/step - loss: 20.0309 - accuracy: 0.0000e+00 - val_loss: 91.6805 - val_accuracy: 0.0000e+00\n",
      "Epoch 35/2000\n",
      "2/2 [==============================] - 0s 25ms/step - loss: 17.9324 - accuracy: 0.0000e+00 - val_loss: 92.4106 - val_accuracy: 0.0000e+00\n",
      "Epoch 36/2000\n",
      "2/2 [==============================] - 0s 27ms/step - loss: 18.4162 - accuracy: 0.0000e+00 - val_loss: 117.0721 - val_accuracy: 0.0000e+00\n",
      "Epoch 37/2000\n",
      "2/2 [==============================] - 0s 25ms/step - loss: 17.7471 - accuracy: 0.0000e+00 - val_loss: 125.2651 - val_accuracy: 0.0000e+00\n",
      "Epoch 38/2000\n",
      "2/2 [==============================] - 0s 29ms/step - loss: 17.9593 - accuracy: 0.0000e+00 - val_loss: 115.8456 - val_accuracy: 0.0000e+00\n",
      "Epoch 39/2000\n",
      "2/2 [==============================] - 0s 23ms/step - loss: 18.8680 - accuracy: 0.0000e+00 - val_loss: 123.3072 - val_accuracy: 0.0000e+00\n",
      "Epoch 40/2000\n",
      "2/2 [==============================] - 0s 19ms/step - loss: 17.6319 - accuracy: 0.0000e+00 - val_loss: 130.0598 - val_accuracy: 0.0000e+00\n",
      "Epoch 41/2000\n",
      "2/2 [==============================] - 0s 22ms/step - loss: 18.4664 - accuracy: 0.0000e+00 - val_loss: 102.4395 - val_accuracy: 0.0000e+00\n",
      "Epoch 42/2000\n",
      "2/2 [==============================] - 0s 18ms/step - loss: 18.2764 - accuracy: 0.0000e+00 - val_loss: 100.4058 - val_accuracy: 0.0000e+00\n",
      "Epoch 43/2000\n",
      "2/2 [==============================] - 0s 25ms/step - loss: 17.7556 - accuracy: 0.0000e+00 - val_loss: 114.4217 - val_accuracy: 0.0000e+00\n",
      "Epoch 44/2000\n",
      "2/2 [==============================] - 0s 27ms/step - loss: 17.3396 - accuracy: 0.0000e+00 - val_loss: 90.7718 - val_accuracy: 0.0000e+00\n",
      "Epoch 45/2000\n",
      "2/2 [==============================] - 0s 26ms/step - loss: 17.6079 - accuracy: 0.0000e+00 - val_loss: 89.6343 - val_accuracy: 0.0000e+00\n",
      "Epoch 46/2000\n",
      "2/2 [==============================] - 0s 25ms/step - loss: 16.9910 - accuracy: 0.0000e+00 - val_loss: 98.2925 - val_accuracy: 0.0000e+00\n",
      "Epoch 47/2000\n",
      "2/2 [==============================] - 0s 24ms/step - loss: 16.2658 - accuracy: 0.0000e+00 - val_loss: 85.5380 - val_accuracy: 0.0000e+00\n",
      "Epoch 48/2000\n",
      "2/2 [==============================] - 0s 26ms/step - loss: 16.5527 - accuracy: 0.0000e+00 - val_loss: 99.1990 - val_accuracy: 0.0000e+00\n",
      "Epoch 49/2000\n",
      "2/2 [==============================] - 0s 22ms/step - loss: 16.0745 - accuracy: 0.0000e+00 - val_loss: 97.4216 - val_accuracy: 0.0000e+00\n",
      "Epoch 50/2000\n",
      "2/2 [==============================] - 0s 28ms/step - loss: 15.6604 - accuracy: 0.0000e+00 - val_loss: 102.7872 - val_accuracy: 0.0000e+00\n",
      "Epoch 51/2000\n",
      "2/2 [==============================] - 0s 26ms/step - loss: 16.4754 - accuracy: 0.0000e+00 - val_loss: 105.4090 - val_accuracy: 0.0000e+00\n",
      "Epoch 52/2000\n",
      "2/2 [==============================] - 0s 21ms/step - loss: 15.1705 - accuracy: 0.0000e+00 - val_loss: 88.7968 - val_accuracy: 0.0000e+00\n",
      "Epoch 53/2000\n",
      "2/2 [==============================] - 0s 23ms/step - loss: 16.8672 - accuracy: 0.0000e+00 - val_loss: 110.1280 - val_accuracy: 0.0000e+00\n",
      "Epoch 54/2000\n"
     ]
    },
    {
     "name": "stdout",
     "output_type": "stream",
     "text": [
      "2/2 [==============================] - 0s 24ms/step - loss: 16.1736 - accuracy: 0.0000e+00 - val_loss: 110.2708 - val_accuracy: 0.0000e+00\n",
      "Epoch 55/2000\n",
      "2/2 [==============================] - 0s 25ms/step - loss: 15.3400 - accuracy: 0.0000e+00 - val_loss: 85.3056 - val_accuracy: 0.0000e+00\n",
      "Epoch 56/2000\n",
      "2/2 [==============================] - 0s 25ms/step - loss: 18.1406 - accuracy: 0.0000e+00 - val_loss: 90.8589 - val_accuracy: 0.0000e+00\n",
      "Epoch 57/2000\n",
      "2/2 [==============================] - 0s 28ms/step - loss: 15.7471 - accuracy: 0.0000e+00 - val_loss: 110.9181 - val_accuracy: 0.0000e+00\n",
      "Epoch 58/2000\n",
      "2/2 [==============================] - 0s 31ms/step - loss: 16.3213 - accuracy: 0.0000e+00 - val_loss: 90.0113 - val_accuracy: 0.0000e+00\n",
      "Epoch 59/2000\n",
      "2/2 [==============================] - 0s 29ms/step - loss: 15.5171 - accuracy: 0.0000e+00 - val_loss: 89.8205 - val_accuracy: 0.0000e+00\n",
      "Epoch 60/2000\n",
      "2/2 [==============================] - 0s 29ms/step - loss: 14.8289 - accuracy: 0.0000e+00 - val_loss: 109.8719 - val_accuracy: 0.0000e+00\n",
      "Epoch 61/2000\n",
      "2/2 [==============================] - 0s 31ms/step - loss: 16.1575 - accuracy: 0.0000e+00 - val_loss: 100.6707 - val_accuracy: 0.0000e+00\n",
      "Epoch 62/2000\n",
      "2/2 [==============================] - 0s 32ms/step - loss: 15.7285 - accuracy: 0.0000e+00 - val_loss: 89.2911 - val_accuracy: 0.0000e+00\n",
      "Epoch 63/2000\n",
      "2/2 [==============================] - 0s 28ms/step - loss: 15.3818 - accuracy: 0.0000e+00 - val_loss: 107.3574 - val_accuracy: 0.0000e+00\n",
      "Epoch 64/2000\n",
      "2/2 [==============================] - 0s 24ms/step - loss: 15.5025 - accuracy: 0.0000e+00 - val_loss: 93.7883 - val_accuracy: 0.0000e+00\n",
      "Epoch 65/2000\n",
      "2/2 [==============================] - 0s 25ms/step - loss: 14.3676 - accuracy: 0.0000e+00 - val_loss: 80.9029 - val_accuracy: 0.0000e+00\n",
      "Epoch 66/2000\n",
      "2/2 [==============================] - 0s 29ms/step - loss: 15.5744 - accuracy: 0.0000e+00 - val_loss: 92.6466 - val_accuracy: 0.0000e+00\n",
      "Epoch 67/2000\n",
      "2/2 [==============================] - 0s 33ms/step - loss: 14.1130 - accuracy: 0.0000e+00 - val_loss: 89.2298 - val_accuracy: 0.0000e+00\n",
      "Epoch 68/2000\n",
      "2/2 [==============================] - 0s 32ms/step - loss: 14.0373 - accuracy: 0.0000e+00 - val_loss: 91.7008 - val_accuracy: 0.0000e+00\n",
      "Epoch 69/2000\n",
      "2/2 [==============================] - 0s 29ms/step - loss: 13.4137 - accuracy: 0.0000e+00 - val_loss: 98.8742 - val_accuracy: 0.0000e+00\n",
      "Epoch 70/2000\n",
      "2/2 [==============================] - 0s 33ms/step - loss: 13.8395 - accuracy: 0.0000e+00 - val_loss: 88.7359 - val_accuracy: 0.0000e+00\n",
      "Epoch 71/2000\n",
      "1/2 [==============>...............] - ETA: 0s - loss: 13.9874 - accuracy: 0.0000e+00"
     ]
    },
    {
     "ename": "KeyboardInterrupt",
     "evalue": "",
     "output_type": "error",
     "traceback": [
      "\u001b[1;31m---------------------------------------------------------------------------\u001b[0m",
      "\u001b[1;31mKeyboardInterrupt\u001b[0m                         Traceback (most recent call last)",
      "\u001b[1;32m~\\AppData\\Local\\Temp/ipykernel_10508/364059294.py\u001b[0m in \u001b[0;36m<module>\u001b[1;34m\u001b[0m\n\u001b[1;32m----> 1\u001b[1;33m history = model.fit(x=x_train, \n\u001b[0m\u001b[0;32m      2\u001b[0m                     \u001b[0my\u001b[0m\u001b[1;33m=\u001b[0m\u001b[0my_train\u001b[0m\u001b[1;33m,\u001b[0m\u001b[1;33m\u001b[0m\u001b[1;33m\u001b[0m\u001b[0m\n\u001b[0;32m      3\u001b[0m                     \u001b[0mepochs\u001b[0m\u001b[1;33m=\u001b[0m\u001b[1;36m2000\u001b[0m\u001b[1;33m,\u001b[0m\u001b[1;33m\u001b[0m\u001b[1;33m\u001b[0m\u001b[0m\n\u001b[0;32m      4\u001b[0m                     \u001b[0msteps_per_epoch\u001b[0m \u001b[1;33m=\u001b[0m \u001b[0mlen\u001b[0m\u001b[1;33m(\u001b[0m\u001b[0mx_train\u001b[0m\u001b[1;33m)\u001b[0m\u001b[1;33m//\u001b[0m\u001b[0mbatch_size\u001b[0m\u001b[1;33m,\u001b[0m\u001b[1;33m\u001b[0m\u001b[1;33m\u001b[0m\u001b[0m\n\u001b[0;32m      5\u001b[0m                     \u001b[0mbatch_size\u001b[0m \u001b[1;33m=\u001b[0m \u001b[0mbatch_size\u001b[0m\u001b[1;33m,\u001b[0m\u001b[1;33m\u001b[0m\u001b[1;33m\u001b[0m\u001b[0m\n",
      "\u001b[1;32m~\\Anaconda3\\envs\\nlp2\\lib\\site-packages\\keras\\engine\\training.py\u001b[0m in \u001b[0;36mfit\u001b[1;34m(self, x, y, batch_size, epochs, verbose, callbacks, validation_split, validation_data, shuffle, class_weight, sample_weight, initial_epoch, steps_per_epoch, validation_steps, validation_batch_size, validation_freq, max_queue_size, workers, use_multiprocessing)\u001b[0m\n\u001b[0;32m   1213\u001b[0m                 \u001b[0mmodel\u001b[0m\u001b[1;33m=\u001b[0m\u001b[0mself\u001b[0m\u001b[1;33m,\u001b[0m\u001b[1;33m\u001b[0m\u001b[1;33m\u001b[0m\u001b[0m\n\u001b[0;32m   1214\u001b[0m                 steps_per_execution=self._steps_per_execution)\n\u001b[1;32m-> 1215\u001b[1;33m           val_logs = self.evaluate(\n\u001b[0m\u001b[0;32m   1216\u001b[0m               \u001b[0mx\u001b[0m\u001b[1;33m=\u001b[0m\u001b[0mval_x\u001b[0m\u001b[1;33m,\u001b[0m\u001b[1;33m\u001b[0m\u001b[1;33m\u001b[0m\u001b[0m\n\u001b[0;32m   1217\u001b[0m               \u001b[0my\u001b[0m\u001b[1;33m=\u001b[0m\u001b[0mval_y\u001b[0m\u001b[1;33m,\u001b[0m\u001b[1;33m\u001b[0m\u001b[1;33m\u001b[0m\u001b[0m\n",
      "\u001b[1;32m~\\Anaconda3\\envs\\nlp2\\lib\\site-packages\\keras\\engine\\training.py\u001b[0m in \u001b[0;36mevaluate\u001b[1;34m(self, x, y, batch_size, verbose, sample_weight, steps, callbacks, max_queue_size, workers, use_multiprocessing, return_dict, **kwargs)\u001b[0m\n\u001b[0;32m   1493\u001b[0m       \u001b[0mself\u001b[0m\u001b[1;33m.\u001b[0m\u001b[0m_test_counter\u001b[0m\u001b[1;33m.\u001b[0m\u001b[0massign\u001b[0m\u001b[1;33m(\u001b[0m\u001b[1;36m0\u001b[0m\u001b[1;33m)\u001b[0m\u001b[1;33m\u001b[0m\u001b[1;33m\u001b[0m\u001b[0m\n\u001b[0;32m   1494\u001b[0m       \u001b[0mcallbacks\u001b[0m\u001b[1;33m.\u001b[0m\u001b[0mon_test_begin\u001b[0m\u001b[1;33m(\u001b[0m\u001b[1;33m)\u001b[0m\u001b[1;33m\u001b[0m\u001b[1;33m\u001b[0m\u001b[0m\n\u001b[1;32m-> 1495\u001b[1;33m       \u001b[1;32mfor\u001b[0m \u001b[0m_\u001b[0m\u001b[1;33m,\u001b[0m \u001b[0miterator\u001b[0m \u001b[1;32min\u001b[0m \u001b[0mdata_handler\u001b[0m\u001b[1;33m.\u001b[0m\u001b[0menumerate_epochs\u001b[0m\u001b[1;33m(\u001b[0m\u001b[1;33m)\u001b[0m\u001b[1;33m:\u001b[0m  \u001b[1;31m# Single epoch.\u001b[0m\u001b[1;33m\u001b[0m\u001b[1;33m\u001b[0m\u001b[0m\n\u001b[0m\u001b[0;32m   1496\u001b[0m         \u001b[0mself\u001b[0m\u001b[1;33m.\u001b[0m\u001b[0mreset_metrics\u001b[0m\u001b[1;33m(\u001b[0m\u001b[1;33m)\u001b[0m\u001b[1;33m\u001b[0m\u001b[1;33m\u001b[0m\u001b[0m\n\u001b[0;32m   1497\u001b[0m         \u001b[1;32mwith\u001b[0m \u001b[0mdata_handler\u001b[0m\u001b[1;33m.\u001b[0m\u001b[0mcatch_stop_iteration\u001b[0m\u001b[1;33m(\u001b[0m\u001b[1;33m)\u001b[0m\u001b[1;33m:\u001b[0m\u001b[1;33m\u001b[0m\u001b[1;33m\u001b[0m\u001b[0m\n",
      "\u001b[1;32m~\\Anaconda3\\envs\\nlp2\\lib\\site-packages\\keras\\engine\\data_adapter.py\u001b[0m in \u001b[0;36menumerate_epochs\u001b[1;34m(self)\u001b[0m\n\u001b[0;32m   1178\u001b[0m     \u001b[1;34m\"\"\"Yields `(epoch, tf.data.Iterator)`.\"\"\"\u001b[0m\u001b[1;33m\u001b[0m\u001b[1;33m\u001b[0m\u001b[0m\n\u001b[0;32m   1179\u001b[0m     \u001b[1;32mwith\u001b[0m \u001b[0mself\u001b[0m\u001b[1;33m.\u001b[0m\u001b[0m_truncate_execution_to_epoch\u001b[0m\u001b[1;33m(\u001b[0m\u001b[1;33m)\u001b[0m\u001b[1;33m:\u001b[0m\u001b[1;33m\u001b[0m\u001b[1;33m\u001b[0m\u001b[0m\n\u001b[1;32m-> 1180\u001b[1;33m       \u001b[0mdata_iterator\u001b[0m \u001b[1;33m=\u001b[0m \u001b[0miter\u001b[0m\u001b[1;33m(\u001b[0m\u001b[0mself\u001b[0m\u001b[1;33m.\u001b[0m\u001b[0m_dataset\u001b[0m\u001b[1;33m)\u001b[0m\u001b[1;33m\u001b[0m\u001b[1;33m\u001b[0m\u001b[0m\n\u001b[0m\u001b[0;32m   1181\u001b[0m       \u001b[1;32mfor\u001b[0m \u001b[0mepoch\u001b[0m \u001b[1;32min\u001b[0m \u001b[0mrange\u001b[0m\u001b[1;33m(\u001b[0m\u001b[0mself\u001b[0m\u001b[1;33m.\u001b[0m\u001b[0m_initial_epoch\u001b[0m\u001b[1;33m,\u001b[0m \u001b[0mself\u001b[0m\u001b[1;33m.\u001b[0m\u001b[0m_epochs\u001b[0m\u001b[1;33m)\u001b[0m\u001b[1;33m:\u001b[0m\u001b[1;33m\u001b[0m\u001b[1;33m\u001b[0m\u001b[0m\n\u001b[0;32m   1182\u001b[0m         \u001b[1;32mif\u001b[0m \u001b[0mself\u001b[0m\u001b[1;33m.\u001b[0m\u001b[0m_insufficient_data\u001b[0m\u001b[1;33m:\u001b[0m  \u001b[1;31m# Set by `catch_stop_iteration`.\u001b[0m\u001b[1;33m\u001b[0m\u001b[1;33m\u001b[0m\u001b[0m\n",
      "\u001b[1;32m~\\Anaconda3\\envs\\nlp2\\lib\\site-packages\\tensorflow\\python\\data\\ops\\dataset_ops.py\u001b[0m in \u001b[0;36m__iter__\u001b[1;34m(self)\u001b[0m\n\u001b[0;32m    409\u001b[0m     \u001b[1;32mif\u001b[0m \u001b[0mcontext\u001b[0m\u001b[1;33m.\u001b[0m\u001b[0mexecuting_eagerly\u001b[0m\u001b[1;33m(\u001b[0m\u001b[1;33m)\u001b[0m \u001b[1;32mor\u001b[0m \u001b[0mops\u001b[0m\u001b[1;33m.\u001b[0m\u001b[0minside_function\u001b[0m\u001b[1;33m(\u001b[0m\u001b[1;33m)\u001b[0m\u001b[1;33m:\u001b[0m\u001b[1;33m\u001b[0m\u001b[1;33m\u001b[0m\u001b[0m\n\u001b[0;32m    410\u001b[0m       \u001b[1;32mwith\u001b[0m \u001b[0mops\u001b[0m\u001b[1;33m.\u001b[0m\u001b[0mcolocate_with\u001b[0m\u001b[1;33m(\u001b[0m\u001b[0mself\u001b[0m\u001b[1;33m.\u001b[0m\u001b[0m_variant_tensor\u001b[0m\u001b[1;33m)\u001b[0m\u001b[1;33m:\u001b[0m\u001b[1;33m\u001b[0m\u001b[1;33m\u001b[0m\u001b[0m\n\u001b[1;32m--> 411\u001b[1;33m         \u001b[1;32mreturn\u001b[0m \u001b[0miterator_ops\u001b[0m\u001b[1;33m.\u001b[0m\u001b[0mOwnedIterator\u001b[0m\u001b[1;33m(\u001b[0m\u001b[0mself\u001b[0m\u001b[1;33m)\u001b[0m\u001b[1;33m\u001b[0m\u001b[1;33m\u001b[0m\u001b[0m\n\u001b[0m\u001b[0;32m    412\u001b[0m     \u001b[1;32melse\u001b[0m\u001b[1;33m:\u001b[0m\u001b[1;33m\u001b[0m\u001b[1;33m\u001b[0m\u001b[0m\n\u001b[0;32m    413\u001b[0m       raise RuntimeError(\"__iter__() is only supported inside of tf.function \"\n",
      "\u001b[1;32m~\\Anaconda3\\envs\\nlp2\\lib\\site-packages\\tensorflow\\python\\data\\ops\\iterator_ops.py\u001b[0m in \u001b[0;36m__init__\u001b[1;34m(self, dataset, components, element_spec)\u001b[0m\n\u001b[0;32m    694\u001b[0m       \u001b[1;32mif\u001b[0m \u001b[1;33m(\u001b[0m\u001b[0mcomponents\u001b[0m \u001b[1;32mis\u001b[0m \u001b[1;32mnot\u001b[0m \u001b[1;32mNone\u001b[0m \u001b[1;32mor\u001b[0m \u001b[0melement_spec\u001b[0m \u001b[1;32mis\u001b[0m \u001b[1;32mnot\u001b[0m \u001b[1;32mNone\u001b[0m\u001b[1;33m)\u001b[0m\u001b[1;33m:\u001b[0m\u001b[1;33m\u001b[0m\u001b[1;33m\u001b[0m\u001b[0m\n\u001b[0;32m    695\u001b[0m         \u001b[1;32mraise\u001b[0m \u001b[0mValueError\u001b[0m\u001b[1;33m(\u001b[0m\u001b[0merror_message\u001b[0m\u001b[1;33m)\u001b[0m\u001b[1;33m\u001b[0m\u001b[1;33m\u001b[0m\u001b[0m\n\u001b[1;32m--> 696\u001b[1;33m       \u001b[0mself\u001b[0m\u001b[1;33m.\u001b[0m\u001b[0m_create_iterator\u001b[0m\u001b[1;33m(\u001b[0m\u001b[0mdataset\u001b[0m\u001b[1;33m)\u001b[0m\u001b[1;33m\u001b[0m\u001b[1;33m\u001b[0m\u001b[0m\n\u001b[0m\u001b[0;32m    697\u001b[0m \u001b[1;33m\u001b[0m\u001b[0m\n\u001b[0;32m    698\u001b[0m   \u001b[1;32mdef\u001b[0m \u001b[0m_create_iterator\u001b[0m\u001b[1;33m(\u001b[0m\u001b[0mself\u001b[0m\u001b[1;33m,\u001b[0m \u001b[0mdataset\u001b[0m\u001b[1;33m)\u001b[0m\u001b[1;33m:\u001b[0m\u001b[1;33m\u001b[0m\u001b[1;33m\u001b[0m\u001b[0m\n",
      "\u001b[1;32m~\\Anaconda3\\envs\\nlp2\\lib\\site-packages\\tensorflow\\python\\data\\ops\\iterator_ops.py\u001b[0m in \u001b[0;36m_create_iterator\u001b[1;34m(self, dataset)\u001b[0m\n\u001b[0;32m    717\u001b[0m               \u001b[0moutput_types\u001b[0m\u001b[1;33m=\u001b[0m\u001b[0mself\u001b[0m\u001b[1;33m.\u001b[0m\u001b[0m_flat_output_types\u001b[0m\u001b[1;33m,\u001b[0m\u001b[1;33m\u001b[0m\u001b[1;33m\u001b[0m\u001b[0m\n\u001b[0;32m    718\u001b[0m               output_shapes=self._flat_output_shapes))\n\u001b[1;32m--> 719\u001b[1;33m       \u001b[0mgen_dataset_ops\u001b[0m\u001b[1;33m.\u001b[0m\u001b[0mmake_iterator\u001b[0m\u001b[1;33m(\u001b[0m\u001b[0mds_variant\u001b[0m\u001b[1;33m,\u001b[0m \u001b[0mself\u001b[0m\u001b[1;33m.\u001b[0m\u001b[0m_iterator_resource\u001b[0m\u001b[1;33m)\u001b[0m\u001b[1;33m\u001b[0m\u001b[1;33m\u001b[0m\u001b[0m\n\u001b[0m\u001b[0;32m    720\u001b[0m       \u001b[1;31m# Delete the resource when this object is deleted\u001b[0m\u001b[1;33m\u001b[0m\u001b[1;33m\u001b[0m\u001b[0m\n\u001b[0;32m    721\u001b[0m       self._resource_deleter = IteratorResourceDeleter(\n",
      "\u001b[1;32m~\\Anaconda3\\envs\\nlp2\\lib\\site-packages\\tensorflow\\python\\ops\\gen_dataset_ops.py\u001b[0m in \u001b[0;36mmake_iterator\u001b[1;34m(dataset, iterator, name)\u001b[0m\n\u001b[0;32m   3117\u001b[0m   \u001b[1;32mif\u001b[0m \u001b[0mtld\u001b[0m\u001b[1;33m.\u001b[0m\u001b[0mis_eager\u001b[0m\u001b[1;33m:\u001b[0m\u001b[1;33m\u001b[0m\u001b[1;33m\u001b[0m\u001b[0m\n\u001b[0;32m   3118\u001b[0m     \u001b[1;32mtry\u001b[0m\u001b[1;33m:\u001b[0m\u001b[1;33m\u001b[0m\u001b[1;33m\u001b[0m\u001b[0m\n\u001b[1;32m-> 3119\u001b[1;33m       _result = pywrap_tfe.TFE_Py_FastPathExecute(\n\u001b[0m\u001b[0;32m   3120\u001b[0m         _ctx, \"MakeIterator\", name, dataset, iterator)\n\u001b[0;32m   3121\u001b[0m       \u001b[1;32mreturn\u001b[0m \u001b[0m_result\u001b[0m\u001b[1;33m\u001b[0m\u001b[1;33m\u001b[0m\u001b[0m\n",
      "\u001b[1;31mKeyboardInterrupt\u001b[0m: "
     ]
    }
   ],
   "source": [
    "history = model.fit(x=x_train, \n",
    "                    y=y_train,\n",
    "                    epochs=2000,\n",
    "                    steps_per_epoch = len(x_train)//batch_size,\n",
    "                    batch_size = batch_size,\n",
    "                    validation_split = .2)"
   ]
  },
  {
   "cell_type": "code",
   "execution_count": 138,
   "id": "e3036029",
   "metadata": {
    "ExecuteTime": {
     "end_time": "2021-09-20T11:29:10.621990Z",
     "start_time": "2021-09-20T11:29:10.300417Z"
    }
   },
   "outputs": [
    {
     "data": {
      "text/plain": [
       "[<matplotlib.lines.Line2D at 0x1756a6b05e0>]"
      ]
     },
     "execution_count": 138,
     "metadata": {},
     "output_type": "execute_result"
    },
    {
     "data": {
      "image/png": "[encoded data removed]",
      "text/plain": [
       "<Figure size 432x288 with 1 Axes>"
      ]
     },
     "metadata": {
      "needs_background": "light"
     },
     "output_type": "display_data"
    }
   ],
   "source": [
    "import matplotlib.pyplot as plt\n",
    "plt.plot(history.history['loss'])"
   ]
  },
  {
   "cell_type": "code",
   "execution_count": 109,
   "id": "3e94a075",
   "metadata": {
    "ExecuteTime": {
     "end_time": "2021-09-20T08:24:23.026187Z",
     "start_time": "2021-09-20T08:24:22.992347Z"
    },
    "collapsed": true
   },
   "outputs": [
    {
     "name": "stdout",
     "output_type": "stream",
     "text": [
      "Model: \"sequential_25\"\n",
      "_________________________________________________________________\n",
      "Layer (type)                 Output Shape              Param #   \n",
      "=================================================================\n",
      "dense_86 (Dense)             (None, 128)               256       \n",
      "_________________________________________________________________\n",
      "dense_87 (Dense)             (None, 64)                8256      \n",
      "_________________________________________________________________\n",
      "dense_88 (Dense)             (None, 32)                2080      \n",
      "_________________________________________________________________\n",
      "dense_89 (Dense)             (None, 16)                528       \n",
      "_________________________________________________________________\n",
      "dense_90 (Dense)             (None, 8)                 136       \n",
      "_________________________________________________________________\n",
      "flatten_21 (Flatten)         (None, 8)                 0         \n",
      "_________________________________________________________________\n",
      "dense_91 (Dense)             (None, 1)                 9         \n",
      "=================================================================\n",
      "Total params: 11,265\n",
      "Trainable params: 11,265\n",
      "Non-trainable params: 0\n",
      "_________________________________________________________________\n"
     ]
    }
   ],
   "source": [
    "model.summary()"
   ]
  },
  {
   "cell_type": "code",
   "execution_count": 153,
   "id": "82f579b4",
   "metadata": {
    "ExecuteTime": {
     "end_time": "2021-09-20T11:34:26.113238Z",
     "start_time": "2021-09-20T11:34:26.098453Z"
    }
   },
   "outputs": [
    {
     "name": "stdout",
     "output_type": "stream",
     "text": [
      "(20,)\n",
      "(20, 1)\n"
     ]
    }
   ],
   "source": [
    "print(y_train.shape)\n",
    "print(np.reshape(y_train.T,(-1, 1)).shape)"
   ]
  },
  {
   "cell_type": "code",
   "execution_count": 141,
   "id": "59030050",
   "metadata": {
    "ExecuteTime": {
     "end_time": "2021-09-20T11:29:42.403627Z",
     "start_time": "2021-09-20T11:29:42.323499Z"
    }
   },
   "outputs": [
    {
     "name": "stdout",
     "output_type": "stream",
     "text": [
      "[[   9.   84.]\n",
      " [  21.   84.]\n",
      " [  43.   84.]\n",
      " [  75.   87.]\n",
      " [ 117.  112.]\n",
      " [ 169.  161.]\n",
      " [ 231.  230.]\n",
      " [ 303.  304.]\n",
      " [ 385.  386.]\n",
      " [ 477.  481.]\n",
      " [ 579.  580.]\n",
      " [ 691.  688.]\n",
      " [ 813.  814.]\n",
      " [ 945.  945.]\n",
      " [1087. 1086.]\n",
      " [1239. 1234.]\n",
      " [1401. 1381.]\n",
      " [1573. 1514.]\n",
      " [1755. 1639.]\n",
      " [1947. 1750.]]\n"
     ]
    }
   ],
   "source": [
    "predictions = model.predict(x_train)\n",
    "\n",
    "print(np.hstack((np.reshape(y_train.T,(-1,1)), np.around(predictions))))"
   ]
  },
  {
   "cell_type": "code",
   "execution_count": null,
   "id": "5a1de0a0",
   "metadata": {},
   "outputs": [],
   "source": []
  }
 ],
 "metadata": {
  "hide_input": false,
  "kernelspec": {
   "display_name": "Python (nlp-updated)",
   "language": "python",
   "name": "nlp2"
  },
  "language_info": {
   "codemirror_mode": {
    "name": "ipython",
    "version": 3
   },
   "file_extension": ".py",
   "mimetype": "text/x-python",
   "name": "python",
   "nbconvert_exporter": "python",
   "pygments_lexer": "ipython3",
   "version": "3.9.7"
  },
  "toc": {
   "base_numbering": 1,
   "nav_menu": {},
   "number_sections": true,
   "sideBar": true,
   "skip_h1_title": false,
   "title_cell": "Table of Contents",
   "title_sidebar": "Contents",
   "toc_cell": false,
   "toc_position": {},
   "toc_section_display": true,
   "toc_window_display": false
  },
  "varInspector": {
   "cols": {
    "lenName": 16,
    "lenType": 16,
    "lenVar": 40
   },
   "kernels_config": {
    "python": {
     "delete_cmd_postfix": "",
     "delete_cmd_prefix": "del ",
     "library": "var_list.py",
     "varRefreshCmd": "print(var_dic_list())"
    },
    "r": {
     "delete_cmd_postfix": ") ",
     "delete_cmd_prefix": "rm(",
     "library": "var_list.r",
     "varRefreshCmd": "cat(var_dic_list()) "
    }
   },
   "types_to_exclude": [
    "module",
    "function",
    "builtin_function_or_method",
    "instance",
    "_Feature"
   ],
   "window_display": false
  }
 },
 "nbformat": 4,
 "nbformat_minor": 5
}
